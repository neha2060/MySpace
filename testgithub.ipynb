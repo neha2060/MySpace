Jupyter QtConsole 4.6.0
Python 3.7.6 (default, Jan  8 2020, 20:23:39) [MSC v.1916 64 bit (AMD64)]
Type 'copyright', 'credits' or 'license' for more information
IPython 7.12.0 -- An enhanced Interactive Python. Type '?' for help.

In [1]: x=y+z
---------------------------------------------------------------------------
NameError                                 Traceback (most recent call last)
<ipython-input-1-1e0b8d4d9d6a> in <module>
----> 1 x=y+z

NameError: name 'y' is not defined

In [2]: def add(x,y):
   ...:     z=x+y;
   ...:     print(z)
   ...:     

In [3]: add(4,5)
9

In [4]: from scipy.special import jn

In [5]: from matplotlib import pyplot as plt

In [6]: import math

In [7]: import numpy as np

In [8]: x=np.linspace(0,4*math.pi)

In [9]: for i in range (6):
   ...:     plt.plot(x,jn(i,x))
   ...:     



In [10]: for i in range (4):
    ...:     plt.plot(x,jn(i,x))
    ...:     



In [11]: for i in range (1):
    ...:     plt.plot(x,jn(i,x))
    ...:     



In [12]: x=np.linspace(0,8*math.pi)

In [13]: for i in range (1):
    ...:     plt.plot(x,jn(i,x))
    ...:     



In [14]: x=np.linspace(0,2*math.pi)

In [15]: for i in range (1):
    ...:     plt.plot(x,jn(i,x))
    ...:     



In [16]: 